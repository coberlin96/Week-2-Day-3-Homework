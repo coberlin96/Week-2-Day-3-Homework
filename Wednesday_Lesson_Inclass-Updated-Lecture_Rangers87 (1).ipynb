{
 "cells": [
  {
   "cell_type": "markdown",
   "metadata": {},
   "source": [
    "# Dictionaries, Sets, & Importing Modules"
   ]
  },
  {
   "cell_type": "markdown",
   "metadata": {},
   "source": [
    "## Tasks Today:\n",
    "\n",
    "1) Dictionary <br>\n",
    " &nbsp;&nbsp;&nbsp;&nbsp; a) Declaring (key, value) <br>\n",
    " &nbsp;&nbsp;&nbsp;&nbsp; b) Accessing Values <br>\n",
    " &nbsp;&nbsp;&nbsp;&nbsp; ------ Exercise #1 - Print the eye color of each person in a double nested dict <br>\n",
    " &nbsp;&nbsp;&nbsp;&nbsp; c) Adding New Pairs <br>\n",
    " &nbsp;&nbsp;&nbsp;&nbsp; d) Modifying Values <br>\n",
    " &nbsp;&nbsp;&nbsp;&nbsp; e) Removing Key, Value Pairs <br>\n",
    " &nbsp;&nbsp;&nbsp;&nbsp; f) Looping a Dictionary <br>\n",
    " &nbsp;&nbsp;&nbsp;&nbsp; g) Looping Only Keys <br>\n",
    " &nbsp;&nbsp;&nbsp;&nbsp; h) Looping Only Values <br>\n",
    " &nbsp;&nbsp;&nbsp;&nbsp; ------ Exercise #2 - Create a Function that Prints All Key Value Pairs within a print .format()  <br>\n",
    " &nbsp;&nbsp;&nbsp;&nbsp; i) sorted() <br>\n",
    " &nbsp;&nbsp;&nbsp;&nbsp; j) Lists with Dictionaries <br>\n",
    " &nbsp;&nbsp;&nbsp;&nbsp; k) Dictionaries with Lists <br>\n",
    " &nbsp;&nbsp;&nbsp;&nbsp; l) Dictionaries with Dictionaries <br>\n",
    " &nbsp;&nbsp;&nbsp;&nbsp; ------ Exercise #3 - Write a Function that asks someone's name and address, and then stores that into a dictionary, which prints all names and addresses after they're done putting information in...  <br>\n",
    "2) Dictionaries vs. Lists (over time)<br>\n",
    "3) Set <br>\n",
    " &nbsp;&nbsp;&nbsp;&nbsp; a) Declaring <br>\n",
    " &nbsp;&nbsp;&nbsp;&nbsp; b) .add() <br>\n",
    " &nbsp;&nbsp;&nbsp;&nbsp; c) .remove() <br>\n",
    " &nbsp;&nbsp;&nbsp;&nbsp; d) .union() <br>\n",
    " &nbsp;&nbsp;&nbsp;&nbsp; e) .intersection() <br>\n",
    " &nbsp;&nbsp;&nbsp;&nbsp; f) .difference() <br>\n",
    " &nbsp;&nbsp;&nbsp;&nbsp; g) Frozen Set <br>\n",
    "4) Modules <br>\n",
    " &nbsp;&nbsp;&nbsp;&nbsp; a) Importing Entire Modules <br>\n",
    " &nbsp;&nbsp;&nbsp;&nbsp; b) Importing Methods Only <br>\n",
    " &nbsp;&nbsp;&nbsp;&nbsp; c) Using the 'as' Keyword <br>\n",
    " &nbsp;&nbsp;&nbsp;&nbsp; d) Creating a Module <br>\n",
    "5) Exercises <br>\n",
    " &nbsp;&nbsp;&nbsp;&nbsp; a) Build a Shopping Cart <br>\n",
    " &nbsp;&nbsp;&nbsp;&nbsp; b) Create Your Own Module <br>"
   ]
  },
  {
   "cell_type": "markdown",
   "metadata": {},
   "source": [
    "## Dictionary <br>\n",
    "<p>A collection of data with 'key:value' pairs. Dictionaries are ordered as of Python 3.6</p>"
   ]
  },
  {
   "cell_type": "markdown",
   "metadata": {},
   "source": [
    "##### Declaring (key, value)"
   ]
  },
  {
   "cell_type": "code",
   "execution_count": 1,
   "metadata": {},
   "outputs": [],
   "source": [
    "# keys should be unique\n",
    "# can use numbers or strings as keys\n",
    "d_1 = {}\n",
    "# or\n",
    "d_2 = dict()\n",
    "\n",
    "d_3 = {\n",
    "    'Tom': '185 Cherry Street',\n",
    "    'Jerry': '184 Cherry Street',\n",
    "    0: '0 key value'\n",
    "}\n"
   ]
  },
  {
   "cell_type": "markdown",
   "metadata": {},
   "source": [
    "##### Accessing Values"
   ]
  },
  {
   "cell_type": "code",
   "execution_count": 3,
   "metadata": {},
   "outputs": [
    {
     "data": {
      "text/plain": [
       "'0 key value'"
      ]
     },
     "execution_count": 3,
     "metadata": {},
     "output_type": "execute_result"
    }
   ],
   "source": [
    "# dict[key]\n",
    "\n",
    "d_3[0]"
   ]
  },
  {
   "cell_type": "markdown",
   "metadata": {},
   "source": [
    "## In-Class Exercise #1 - Print a formatted statement from the dictionary below <br>\n",
    "<p>The output should be '2018 Chevrolet Silverado'</p>"
   ]
  },
  {
   "cell_type": "code",
   "execution_count": 6,
   "metadata": {},
   "outputs": [
    {
     "name": "stdout",
     "output_type": "stream",
     "text": [
      "2018 Chevrolet Silverado\n"
     ]
    }
   ],
   "source": [
    "# use the dict below\n",
    "truck = {\n",
    "    \"year\": 2018,\n",
    "    'make': 'Chevrolet',\n",
    "    'model': 'Silverado'\n",
    "}\n",
    "\n",
    "print(truck['year'],truck['make'],truck['model'])\n"
   ]
  },
  {
   "cell_type": "markdown",
   "metadata": {},
   "source": [
    "##### Adding New Pairs"
   ]
  },
  {
   "cell_type": "code",
   "execution_count": 7,
   "metadata": {},
   "outputs": [
    {
     "data": {
      "text/plain": [
       "{'Tom': '185 Cherry Street',\n",
       " 'Jerry': '184 Cherry Street',\n",
       " 0: '0 key value',\n",
       " 'Spike': '183 Cherry Street'}"
      ]
     },
     "execution_count": 7,
     "metadata": {},
     "output_type": "execute_result"
    }
   ],
   "source": [
    "# dict[key] = value\n",
    "d_3['Spike']=\"183 Cherry Street\"\n",
    "\n",
    "d_3"
   ]
  },
  {
   "cell_type": "markdown",
   "metadata": {},
   "source": [
    "##### Modifying Values"
   ]
  },
  {
   "cell_type": "code",
   "execution_count": 9,
   "metadata": {},
   "outputs": [
    {
     "data": {
      "text/plain": [
       "{'Tom': '185 Cherry Street',\n",
       " 'Jerry': '184 Cherry Street',\n",
       " 0: '0 key value',\n",
       " 'Spike': '183 Cherry StreetChicago, IL Chicago, IL'}"
      ]
     },
     "execution_count": 9,
     "metadata": {},
     "output_type": "execute_result"
    }
   ],
   "source": [
    "# dict[key] = value\n",
    "placeholder = d_3['Spike']\n",
    "d_3['Spike']=placeholder + ' Chicago, IL'\n",
    "\n",
    "d_3"
   ]
  },
  {
   "cell_type": "markdown",
   "metadata": {},
   "source": [
    "##### Removing Key, Value Pairs"
   ]
  },
  {
   "cell_type": "code",
   "execution_count": 10,
   "metadata": {},
   "outputs": [
    {
     "data": {
      "text/plain": [
       "{'Tom': '185 Cherry Street',\n",
       " 'Jerry': '184 Cherry Street',\n",
       " 'Spike': '183 Cherry StreetChicago, IL Chicago, IL'}"
      ]
     },
     "execution_count": 10,
     "metadata": {},
     "output_type": "execute_result"
    }
   ],
   "source": [
    "# del dict[key]\n",
    "del d_3[0]\n",
    "\n",
    "d_3\n"
   ]
  },
  {
   "cell_type": "markdown",
   "metadata": {},
   "source": [
    "##### Looping a Dictionary"
   ]
  },
  {
   "cell_type": "code",
   "execution_count": 13,
   "metadata": {},
   "outputs": [
    {
     "name": "stdout",
     "output_type": "stream",
     "text": [
      "Name: Tom | Address: 185 Cherry Street\n",
      "Name: Jerry | Address: 184 Cherry Street\n",
      "Name: Spike | Address: 183 Cherry StreetChicago, IL Chicago, IL\n"
     ]
    }
   ],
   "source": [
    "# .items()\n",
    "# a, b, c = 1, 2, 3\n",
    "\n",
    "for name, address in d_3.items():\n",
    "    print(f\"Name: {name} | Address: {address}\")\n"
   ]
  },
  {
   "cell_type": "markdown",
   "metadata": {},
   "source": [
    "##### Looping Only Keys"
   ]
  },
  {
   "cell_type": "code",
   "execution_count": 14,
   "metadata": {},
   "outputs": [
    {
     "name": "stdout",
     "output_type": "stream",
     "text": [
      "Tom\n",
      "Jerry\n",
      "Spike\n"
     ]
    }
   ],
   "source": [
    "# .keys()\n",
    "for name in d_3.keys():\n",
    "    print(name)"
   ]
  },
  {
   "cell_type": "markdown",
   "metadata": {},
   "source": [
    "##### Looping Only Values"
   ]
  },
  {
   "cell_type": "code",
   "execution_count": 15,
   "metadata": {},
   "outputs": [
    {
     "name": "stdout",
     "output_type": "stream",
     "text": [
      "['185 Cherry Street', '184 Cherry Street', '183 Cherry StreetChicago, IL Chicago, IL']\n"
     ]
    }
   ],
   "source": [
    "value_list = [val for val in d_3.values()]\n",
    "print(value_list)"
   ]
  },
  {
   "cell_type": "code",
   "execution_count": null,
   "metadata": {
    "scrolled": false
   },
   "outputs": [],
   "source": []
  },
  {
   "cell_type": "code",
   "execution_count": 9,
   "metadata": {
    "scrolled": true
   },
   "outputs": [],
   "source": [
    "# .values()\n"
   ]
  },
  {
   "cell_type": "markdown",
   "metadata": {},
   "source": [
    "## In-Class Exercise #2 - Create a Function that Prints All Key Value Pairs within a print .format() <br>\n",
    "<p><b>Output should be:</b><br>\n",
    "Max has blue eyes<br>\n",
    "Lilly has brown eyes<br>\n",
    "Barney has blue eyes<br>\n",
    "etc.\n",
    "</p>"
   ]
  },
  {
   "cell_type": "code",
   "execution_count": 17,
   "metadata": {},
   "outputs": [
    {
     "name": "stdout",
     "output_type": "stream",
     "text": [
      "Timmy has brown eyes\n",
      "Wanda has purple eyes\n",
      "Vicky has green eyes\n",
      "Cosmo has green eyes\n",
      "Crocker has blue eyes\n"
     ]
    }
   ],
   "source": [
    "# use the dict below\n",
    "people={\n",
    "    'Timmy':'brown',\n",
    "    'Wanda': 'purple',\n",
    "    'Vicky': 'green',\n",
    "    'Cosmo': 'green',\n",
    "    'Crocker': 'blue'\n",
    "}\n",
    "\n",
    "for name, color in people.items():\n",
    "    print(f\"{name} has {color} eyes\")"
   ]
  },
  {
   "cell_type": "markdown",
   "metadata": {},
   "source": [
    "##### sorted()"
   ]
  },
  {
   "cell_type": "code",
   "execution_count": 18,
   "metadata": {},
   "outputs": [
    {
     "name": "stdout",
     "output_type": "stream",
     "text": [
      "['Cosmo', 'Crocker', 'Timmy', 'Vicky', 'Wanda']\n",
      "['blue', 'brown', 'green', 'green', 'purple']\n",
      "[('Cosmo', 'green'), ('Crocker', 'blue'), ('Timmy', 'brown'), ('Vicky', 'green'), ('Wanda', 'purple')]\n"
     ]
    }
   ],
   "source": [
    "# sorts variables in order\n",
    "# sorted(dict.values()) or dict.keys() or dict.items()\n",
    "print(sorted(people.keys()))\n",
    "print(sorted(people.values()))\n",
    "print(sorted(people.items()))"
   ]
  },
  {
   "cell_type": "markdown",
   "metadata": {},
   "source": [
    "##### List with Dictionaries"
   ]
  },
  {
   "cell_type": "code",
   "execution_count": 20,
   "metadata": {},
   "outputs": [
    {
     "name": "stdout",
     "output_type": "stream",
     "text": [
      "barb\n",
      "random_guy Tom\n",
      "random_girl barb\n"
     ]
    }
   ],
   "source": [
    "names = ['Dave', 'Susan', 'Linda', {'random_guy': 'Tom', 'random_girl': 'barb'}]\n",
    "print(names[3]['random_girl'])\n",
    "\n",
    "for key in names[3]:\n",
    "    print(key,names[3][key])"
   ]
  },
  {
   "cell_type": "markdown",
   "metadata": {},
   "source": [
    "##### Dictionaries with Lists"
   ]
  },
  {
   "cell_type": "code",
   "execution_count": 21,
   "metadata": {},
   "outputs": [
    {
     "name": "stdout",
     "output_type": "stream",
     "text": [
      "33\n",
      "94\n",
      "12\n"
     ]
    }
   ],
   "source": [
    "# be careful when using numbers as keys in dictionaries, don't confuse them with indexes\n",
    "random_data={\n",
    "    'list_1':[33,94,12],\n",
    "    '2': ['flashlight']\n",
    "}\n",
    "\n",
    "for data in random_data['list_1']:\n",
    "    print(data)"
   ]
  },
  {
   "cell_type": "markdown",
   "metadata": {},
   "source": [
    "##### Dictionaries with Dictionaries"
   ]
  },
  {
   "cell_type": "code",
   "execution_count": 24,
   "metadata": {},
   "outputs": [],
   "source": [
    "# to get values, must traverse through keys\n",
    "food_dict = {\n",
    "    \"Terrell\":{\n",
    "        \"Latin\": [\"Tacos\",\"Arepa\",'Empenada'],\n",
    "        \"Noodles\": [\"Instant\",\"Pho\",'Ramen','Maccaroni']\n",
    "    },\n",
    "    \"Danni\":{\n",
    "        \"Mexican\": [\"Taco\",\"Burrito\",\"Empenada\"],\n",
    "        \"Japanese\":[\"Nigiri\",\"Sashimi\",\"Onigiri\"]\n",
    "    },\n",
    "    \"Billy\": {\n",
    "        \"Latin\": [\"Tacos\", \"Quesadilla\", \"Burritos\"],\n",
    "        \"Noodles\": [\"Spaghetti\", \"Pho\", \"Mac'n Cheese\"]\n",
    "    },\n",
    "    \"Garrett\":{\n",
    "        \"Breakfast\":[\"Eggs\",\"Waffles\",\"Bacon\"],\n",
    "        \"Lunch\":[\"Instant Noodles\",\"Perogies\"]\n",
    "    },\n",
    "    \"Ryan\": {\n",
    "        \"Latin\": [\"Tacos\", \"Tortas\", \"More Tacos\", \"I just really love tacos\"],\n",
    "        \"Noodles\": [\"Ramen\", \"anythign slurpable\"]\n",
    "    },\n",
    "    \"marcus\": {\n",
    "        \"bbq\": [\"brisket\",\"ribs\",\"chicken\"],\n",
    "        \"mexican\": [\"street tacos\", \"brirra\", \"wet burrito\"]\n",
    "    },\n",
    "    'Connor':{\n",
    "        'japanese': ['sushi', 'fried rice', 'lo mein'],\n",
    "        'italian': ['Stromboli', 'ravioli', 'tortalini']\n",
    "    },\n",
    "    \"Jordy\": {\n",
    "        \"Asian Cuisines\": [\"General Tso\", \"Pad Thai\", \"Ramen\"],\n",
    "        \"Italian\": [\"Pene\", \"Alfredo\", \"Margharita pizza\"],\n",
    "        \"Spanish\": [\"Pernil\", \"Tostones\", \"Birria\"]\n",
    "    },\n",
    "    \"Joel\":{\n",
    "        \"Spanish\": [\" Tacos\",\"RicenBeans\",'Salchipapa'],\n",
    "        \"Italian\": [\"pasta\",\"lasagna\",\"Alfredo\"]\n",
    "    },\n",
    "    \"Sam\":{\n",
    "        \"Soul\": [\"Fried Steak\", \"Collard Greens\", \"Mac & Cheese\"],\n",
    "        \"Breakfast\": [\"Pancakes\", \"Eggs\", \"Bacon\"]\n",
    "    },\n",
    "    \"Devin\":{\n",
    "        \"Seafood\": [\"Salmon\",\"Lobster\",\"Tuna\"],\n",
    "        \"Italian\": [\"Spaghetti\", \"Ravioli\", \"Lasagna\"]\n",
    "    },\n",
    "}\n"
   ]
  },
  {
   "cell_type": "markdown",
   "metadata": {},
   "source": [
    "# Exercise: Grab everyone's favorite food and print them out on individual lines"
   ]
  },
  {
   "cell_type": "code",
   "execution_count": 30,
   "metadata": {},
   "outputs": [
    {
     "name": "stdout",
     "output_type": "stream",
     "text": [
      "Tacos\n",
      "Arepa\n",
      "Empenada\n",
      "Instant\n",
      "Pho\n",
      "Ramen\n",
      "Maccaroni\n",
      "Taco\n",
      "Burrito\n",
      "Empenada\n",
      "Nigiri\n",
      "Sashimi\n",
      "Onigiri\n",
      "Tacos\n",
      "Quesadilla\n",
      "Burritos\n",
      "Spaghetti\n",
      "Pho\n",
      "Mac'n Cheese\n",
      "Eggs\n",
      "Waffles\n",
      "Bacon\n",
      "Instant Noodles\n",
      "Perogies\n",
      "Tacos\n",
      "Tortas\n",
      "More Tacos\n",
      "I just really love tacos\n",
      "Ramen\n",
      "anythign slurpable\n",
      "brisket\n",
      "ribs\n",
      "chicken\n",
      "street tacos\n",
      "brirra\n",
      "wet burrito\n",
      "sushi\n",
      "fried rice\n",
      "lo mein\n",
      "Stromboli\n",
      "ravioli\n",
      "tortalini\n",
      "General Tso\n",
      "Pad Thai\n",
      "Ramen\n",
      "Pene\n",
      "Alfredo\n",
      "Margharita pizza\n",
      "Pernil\n",
      "Tostones\n",
      "Birria\n",
      " Tacos\n",
      "RicenBeans\n",
      "Salchipapa\n",
      "pasta\n",
      "lasagna\n",
      "Alfredo\n",
      "Fried Steak\n",
      "Collard Greens\n",
      "Mac & Cheese\n",
      "Pancakes\n",
      "Eggs\n",
      "Bacon\n",
      "Salmon\n",
      "Lobster\n",
      "Tuna\n",
      "Spaghetti\n",
      "Ravioli\n",
      "Lasagna\n"
     ]
    }
   ],
   "source": [
    "for person, foods in food_dict.items():\n",
    "    for  foods, types in foods.items():\n",
    "        for food in types:\n",
    "            print (food)"
   ]
  },
  {
   "cell_type": "markdown",
   "metadata": {},
   "source": [
    "# Exercise Print previous list with no repeats"
   ]
  },
  {
   "cell_type": "code",
   "execution_count": 32,
   "metadata": {},
   "outputs": [
    {
     "name": "stdout",
     "output_type": "stream",
     "text": [
      "Tacos\n",
      "Arepa\n",
      "Empenada\n",
      "Instant\n",
      "Pho\n",
      "Ramen\n",
      "Maccaroni\n",
      "Taco\n",
      "Burrito\n",
      "Nigiri\n",
      "Sashimi\n",
      "Onigiri\n",
      "Quesadilla\n",
      "Burritos\n",
      "Spaghetti\n",
      "Mac'n Cheese\n",
      "Eggs\n",
      "Waffles\n",
      "Bacon\n",
      "Instant Noodles\n",
      "Perogies\n",
      "Tortas\n",
      "More Tacos\n",
      "I just really love tacos\n",
      "anythign slurpable\n",
      "brisket\n",
      "ribs\n",
      "chicken\n",
      "street tacos\n",
      "brirra\n",
      "wet burrito\n",
      "sushi\n",
      "fried rice\n",
      "lo mein\n",
      "Stromboli\n",
      "ravioli\n",
      "tortalini\n",
      "General Tso\n",
      "Pad Thai\n",
      "Pene\n",
      "Alfredo\n",
      "Margharita pizza\n",
      "Pernil\n",
      "Tostones\n",
      "Birria\n",
      " Tacos\n",
      "RicenBeans\n",
      "Salchipapa\n",
      "pasta\n",
      "lasagna\n",
      "Fried Steak\n",
      "Collard Greens\n",
      "Mac & Cheese\n",
      "Pancakes\n",
      "Salmon\n",
      "Lobster\n",
      "Tuna\n",
      "Ravioli\n",
      "Lasagna\n"
     ]
    }
   ],
   "source": [
    "menu = []\n",
    "\n",
    "for person, foods in food_dict.items():\n",
    "    for  foods, types in foods.items():\n",
    "        for food in types:\n",
    "            if food not in menu:\n",
    "                menu.append(food)\n",
    "for order in menu:\n",
    "    print (order)"
   ]
  },
  {
   "cell_type": "markdown",
   "metadata": {},
   "source": [
    "## Dictionaries vs. Lists (over time) Example of RUNTIME\n",
    "### When inputting values in a Dictionary vs List"
   ]
  },
  {
   "cell_type": "code",
   "execution_count": 34,
   "metadata": {},
   "outputs": [],
   "source": [
    "import time\n",
    "\n",
    "d={}\n",
    "\n",
    "for i in range(10000000):\n",
    "    d[i]=\"value \"+ str(i)\n",
    "    \n",
    "big_list = [x for x in range(10000000)]"
   ]
  },
  {
   "cell_type": "code",
   "execution_count": 36,
   "metadata": {},
   "outputs": [
    {
     "name": "stdout",
     "output_type": "stream",
     "text": [
      "value 9999999\n",
      "Elapsed time for dictionary: 0.000997781753540039\n",
      "9999999\n",
      "Elapsed time for list:0.8197572231292725\n"
     ]
    }
   ],
   "source": [
    "start_time = time.time()\n",
    "print(d[9999999])\n",
    "\n",
    "end_time = time.time()\n",
    "elapsed_time=end_time-start_time\n",
    "print(f'Elapsed time for dictionary: {elapsed_time}')\n",
    "\n",
    "start_time=time.time()\n",
    "\n",
    "for i in range(len(big_list)):\n",
    "    if i == 9999999:\n",
    "        print(i)\n",
    "        break\n",
    "        \n",
    "end_time=time.time()\n",
    "elapsed_time=end_time-start_time\n",
    "\n",
    "print(f'Elapsed time for list:{elapsed_time}')"
   ]
  },
  {
   "cell_type": "markdown",
   "metadata": {},
   "source": [
    "## Exercise #3 - Write a Function that asks someone's name and address, and then stores that into a dictionary, and continues to do so until they choose to 'quit'. Once they quit, the program should print all names and addresses. <br>\n",
    "<p>\n",
    "<b>Proper steps:</b><br>\n",
    "step 1: write a function that takes in information and stores it in a dictionary<br>\n",
    "step 2: define an empty dictionary to work with<br>\n",
    "step 3: create our loop, which asks the user for information until they quit<br>\n",
    "step 4: ask for the information, and store it into variables<br>\n",
    "step 5: check if the user types quit<br>\n",
    "step 5a: print out all information<br>\n",
    "step 5b: break out of the loop<br>\n",
    "step 6: if they didn't quit, add the information to the dictionary<br>\n",
    "step 7: invoke the function by calling it\n",
    "</p>"
   ]
  },
  {
   "cell_type": "code",
   "execution_count": 44,
   "metadata": {},
   "outputs": [
    {
     "name": "stdout",
     "output_type": "stream",
     "text": [
      "Please input a name, or input quit to stop: Connor\n",
      "Please input your adddress: 246 Stone Park Dr\n",
      "Please input a name, or input quit to stop: Lisa\n",
      "Please input your adddress: 487 Woodlands Pkwy\n",
      "Please input a name, or input quit to stop: quit\n",
      "Connor: 246 Stone Park Dr\n",
      "Lisa: 487 Woodlands Pkwy\n"
     ]
    }
   ],
   "source": [
    "from IPython.display import clear_output\n",
    "\n",
    "# Step 1\n",
    "def storeInfo():\n",
    "    #step 2\n",
    "    address_book = {}\n",
    "    #step 3\n",
    "    cont=True\n",
    "    while cont == True:\n",
    "        #step 4\n",
    "        name = input('Please input a name, or input \"quit\" to stop: ')\n",
    "        #step5\n",
    "        if name == 'quit':\n",
    "            #step 5b\n",
    "            break\n",
    "\n",
    "        address = input('Please input your adddress: ')\n",
    "        \n",
    "        #step 6\n",
    "        address_book[name] = address\n",
    "    #step 5a\n",
    "    for name, address in address_book.items():\n",
    "        print(f'{name}: {address}')\n",
    "\n",
    "#step 7\n",
    "storeInfo()\n",
    "    \n",
    "        "
   ]
  },
  {
   "cell_type": "markdown",
   "metadata": {},
   "source": [
    "## Set <br>\n",
    "<p>A Set is an unordered collection data type that is iterable (loop), mutable, and has no duplicate elements.<br>Major advantage is that it is highly optimized in checking if something is in the set, as opposed to checking if something is in a list.</p>"
   ]
  },
  {
   "cell_type": "markdown",
   "metadata": {},
   "source": [
    "##### Declaring"
   ]
  },
  {
   "cell_type": "code",
   "execution_count": 45,
   "metadata": {},
   "outputs": [
    {
     "name": "stdout",
     "output_type": "stream",
     "text": [
      "{8, 9, 3, 4}\n"
     ]
    }
   ],
   "source": [
    "# set() or {}\n",
    "# no order {3, 2, 1} outputs as {1, 2, 3}\n",
    "\n",
    "nums = {4, 8, 9, 3, 4}\n",
    "print(nums)"
   ]
  },
  {
   "cell_type": "markdown",
   "metadata": {},
   "source": [
    "##### .add()"
   ]
  },
  {
   "cell_type": "code",
   "execution_count": 46,
   "metadata": {},
   "outputs": [
    {
     "name": "stdout",
     "output_type": "stream",
     "text": [
      "{3, 4, 8, 9, 88}\n"
     ]
    }
   ],
   "source": [
    "# set.add()\n",
    "\n",
    "nums.add(88)\n",
    "print(nums)"
   ]
  },
  {
   "cell_type": "markdown",
   "metadata": {},
   "source": [
    "##### .remove()"
   ]
  },
  {
   "cell_type": "code",
   "execution_count": 47,
   "metadata": {},
   "outputs": [
    {
     "name": "stdout",
     "output_type": "stream",
     "text": [
      "{3, 4, 9, 88}\n"
     ]
    }
   ],
   "source": [
    "# removes by value\n",
    "# set.remove()\n",
    "# nums.remove(56)\n",
    "nums.remove(8)\n",
    "print(nums)"
   ]
  },
  {
   "cell_type": "markdown",
   "metadata": {},
   "source": [
    "##### .union() "
   ]
  },
  {
   "cell_type": "code",
   "execution_count": 49,
   "metadata": {},
   "outputs": [
    {
     "name": "stdout",
     "output_type": "stream",
     "text": [
      "{1, 2, 3, 4, 5, 6}\n"
     ]
    }
   ],
   "source": [
    "# Returns a union of two sets, can also use '|' or set.union(set)\n",
    "# joins all numbers, gets rid of duplicates\n",
    "\n",
    "s1={1,2,3,4}\n",
    "s2={3,4,5,6}\n",
    "\n",
    "s3= s1.union(s2)\n",
    "print(s3)"
   ]
  },
  {
   "cell_type": "markdown",
   "metadata": {},
   "source": [
    "##### .intersection()"
   ]
  },
  {
   "cell_type": "code",
   "execution_count": 50,
   "metadata": {},
   "outputs": [
    {
     "name": "stdout",
     "output_type": "stream",
     "text": [
      "{3, 4}\n"
     ]
    }
   ],
   "source": [
    "# Returns an intersection of two sets, can also use '&'\n",
    "# only takes similar elements from both sets\n",
    "\n",
    "s4=s1.intersection(s2)\n",
    "print(s4)"
   ]
  },
  {
   "cell_type": "markdown",
   "metadata": {},
   "source": [
    "##### .difference()"
   ]
  },
  {
   "cell_type": "code",
   "execution_count": 51,
   "metadata": {},
   "outputs": [
    {
     "name": "stdout",
     "output_type": "stream",
     "text": [
      "{1, 2}\n"
     ]
    }
   ],
   "source": [
    "# Returns a set containing all the elements of invoking set that are not in the second set, can also use '-'\n",
    "# only takes values from the first set that are not in the second set\n",
    "# order matters\n",
    "\n",
    "s5=s1-s2\n",
    "\n",
    "print(s5)"
   ]
  },
  {
   "cell_type": "markdown",
   "metadata": {},
   "source": [
    "##### .clear()"
   ]
  },
  {
   "cell_type": "code",
   "execution_count": 52,
   "metadata": {},
   "outputs": [
    {
     "name": "stdout",
     "output_type": "stream",
     "text": [
      "set()\n"
     ]
    }
   ],
   "source": [
    "# Empties the whole set\n",
    "# set.clear()\n",
    "s5.clear()\n",
    "print(s5)"
   ]
  },
  {
   "cell_type": "code",
   "execution_count": null,
   "metadata": {},
   "outputs": [],
   "source": []
  },
  {
   "cell_type": "markdown",
   "metadata": {},
   "source": [
    "##### Frozenset <br>\n",
    "<p>Frozen sets are immutable objects that only support methods and operators that produce a result without affecting the frozen set or sets to which they are applied.</p><br><b>Unique & Immutable</b>"
   ]
  },
  {
   "cell_type": "code",
   "execution_count": 53,
   "metadata": {},
   "outputs": [
    {
     "name": "stdout",
     "output_type": "stream",
     "text": [
      "frozenset({1, 2, 3, 4, 5, 6})\n"
     ]
    }
   ],
   "source": [
    "# frozenset([])\n",
    "\n",
    "icy_set = frozenset(s3)\n",
    "print(icy_set)"
   ]
  },
  {
   "cell_type": "markdown",
   "metadata": {},
   "source": [
    "## Modules"
   ]
  },
  {
   "cell_type": "markdown",
   "metadata": {},
   "source": [
    "##### Importing Entire Modules"
   ]
  },
  {
   "cell_type": "code",
   "execution_count": 54,
   "metadata": {},
   "outputs": [
    {
     "name": "stdout",
     "output_type": "stream",
     "text": [
      "3.141592653589793\n"
     ]
    }
   ],
   "source": [
    "# import \n",
    "# or \n",
    "# from 'xxx' import *\n",
    "\n",
    "import math\n",
    "\n",
    "print(math.pi)"
   ]
  },
  {
   "cell_type": "markdown",
   "metadata": {},
   "source": [
    "##### Importing Methods Only"
   ]
  },
  {
   "cell_type": "code",
   "execution_count": 55,
   "metadata": {},
   "outputs": [
    {
     "name": "stdout",
     "output_type": "stream",
     "text": [
      "3\n"
     ]
    }
   ],
   "source": [
    "# from 'xxx' import 'xxx'\n",
    "from math import floor, pi\n",
    "\n",
    "print(floor(pi))\n"
   ]
  },
  {
   "cell_type": "markdown",
   "metadata": {},
   "source": [
    "##### Using the 'as' Keyword"
   ]
  },
  {
   "cell_type": "code",
   "execution_count": 56,
   "metadata": {},
   "outputs": [
    {
     "name": "stdout",
     "output_type": "stream",
     "text": [
      "3\n"
     ]
    }
   ],
   "source": [
    "# from 'xxx' import 'xxx' as 'xxx' or import 'xxx' as 'xxx'\n",
    "from math import floor as f, pi as p\n",
    "\n",
    "print(f(p))\n"
   ]
  },
  {
   "cell_type": "markdown",
   "metadata": {},
   "source": [
    "##### Creating a Module"
   ]
  },
  {
   "cell_type": "code",
   "execution_count": 57,
   "metadata": {},
   "outputs": [
    {
     "name": "stdout",
     "output_type": "stream",
     "text": [
      "Hello Mr/Ms Connor...we've been waiting for you!\n"
     ]
    }
   ],
   "source": [
    "from module import printName as pn\n",
    "\n",
    "pn('Connor')\n"
   ]
  },
  {
   "cell_type": "markdown",
   "metadata": {},
   "source": [
    "# Exercises"
   ]
  },
  {
   "cell_type": "markdown",
   "metadata": {},
   "source": [
    "### 1) Build a Shopping Cart <br>\n",
    "<p><b>You can use either lists or dictionaries. The program should have the following capabilities:</b><br><br>\n",
    "1) Takes in input <br>\n",
    "2) Stores user input into a dictionary or list <br>\n",
    "3) The User can add or delete items <br>\n",
    "4) The User can see current shopping list <br>\n",
    "5) The program Loops until user 'quits' <br>\n",
    "6) Upon quiting the program, print out all items in the user's list <br>\n",
    "</p>"
   ]
  },
  {
   "cell_type": "code",
   "execution_count": 73,
   "metadata": {},
   "outputs": [
    {
     "name": "stdout",
     "output_type": "stream",
     "text": [
      "milk : 2.49\n",
      "eggs : 4.99\n",
      "bread : 2.19\n"
     ]
    }
   ],
   "source": [
    "from IPython.display import clear_output\n",
    "\n",
    "# Ask the user four bits of input: Do you want to : Show/Add/Delete or Quit?\n",
    "cart = {}\n",
    "\n",
    "while True:\n",
    "    print('\\nPlease enter \"Show\" to view your current cart')\n",
    "    print('Enter \"Add\" to put something into your cart')\n",
    "    print('Enter \"Delete\" to remove something from your cart')\n",
    "    print('Enter \"Quit\" to check out')\n",
    "    choice = input()\n",
    "    if choice.lower() == 'show':\n",
    "        clear_output()\n",
    "        i = 1\n",
    "        for item, price in cart.items():\n",
    "            print('#'+str(i)+'\\t'+item.title()+'\\t'+price)\n",
    "            i=i+1\n",
    "    elif choice.lower() == 'add':\n",
    "        new_item = input('What would you like to add to your cart? ')\n",
    "        item_price = input('How much does that cost? ')\n",
    "        cart[new_item.lower()] = item_price\n",
    "    elif choice.lower() == 'delete':\n",
    "        remove = input('What would you like to remove from your cart? ')\n",
    "        if remove.lower() not in cart:\n",
    "            print('That item is not in your cart')\n",
    "        else:\n",
    "            del cart[remove]\n",
    "            print(remove.title(),'has been removed from your cart')\n",
    "    elif choice.lower() == 'quit':\n",
    "        clear_output()\n",
    "        for item, price in cart.items():\n",
    "            print(f'{item} : {price}')\n",
    "        break\n",
    "    else:\n",
    "        print('Your input did not match any of the available choices, please try again')\n",
    "        \n",
    "    "
   ]
  },
  {
   "cell_type": "markdown",
   "metadata": {},
   "source": [
    "### 2) Create a Module in VS Code and Import It into jupyter notebook <br>\n",
    "<p><b>Module should have the following capabilities:</b><br><br>\n",
    "1) Has a function to calculate the square footage of a house <br>\n",
    "    <b>Reminder of Formula: Length X Width == Area<br>\n",
    "        <hr>\n",
    "2) Has a function to calculate the circumference of a circle <br><br>\n",
    "<b>Program in Jupyter Notebook should take in user input and use imported functions to calculate a circle's circumference or a houses square footage</b>\n",
    "</p>"
   ]
  },
  {
   "cell_type": "code",
   "execution_count": 75,
   "metadata": {},
   "outputs": [
    {
     "name": "stdout",
     "output_type": "stream",
     "text": [
      "The total area of an area of 15 X 20 is 300\n",
      "The total circumference of a circle with a radius of  5.5 is 34.54\n"
     ]
    }
   ],
   "source": [
    "from measurements import area, circ\n",
    "\n",
    "area(15,20)\n",
    "\n",
    "circ(5.5)\n"
   ]
  },
  {
   "cell_type": "code",
   "execution_count": null,
   "metadata": {},
   "outputs": [],
   "source": []
  }
 ],
 "metadata": {
  "kernelspec": {
   "display_name": "Python 3 (ipykernel)",
   "language": "python",
   "name": "python3"
  },
  "language_info": {
   "codemirror_mode": {
    "name": "ipython",
    "version": 3
   },
   "file_extension": ".py",
   "mimetype": "text/x-python",
   "name": "python",
   "nbconvert_exporter": "python",
   "pygments_lexer": "ipython3",
   "version": "3.9.7"
  }
 },
 "nbformat": 4,
 "nbformat_minor": 2
}
